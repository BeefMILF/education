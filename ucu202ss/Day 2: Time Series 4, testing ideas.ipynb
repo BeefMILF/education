{
 "cells": [
  {
   "cell_type": "code",
   "execution_count": 1,
   "metadata": {},
   "outputs": [
    {
     "name": "stderr",
     "output_type": "stream",
     "text": [
      "/anaconda2/lib/python3.7/site-packages/pandas_datareader/compat/__init__.py:7: FutureWarning: pandas.util.testing is deprecated. Use the functions in the public API at pandas.testing instead.\n",
      "  from pandas.util.testing import assert_frame_equal\n"
     ]
    }
   ],
   "source": [
    "from pandas_datareader import data as datareader\n",
    "import matplotlib.pyplot as plt\n",
    "import pandas as pd\n",
    "import numpy as np\n",
    "from datetime import timedelta\n",
    "from datetime import datetime"
   ]
  },
  {
   "cell_type": "code",
   "execution_count": 2,
   "metadata": {},
   "outputs": [],
   "source": [
    "import warnings\n",
    "warnings.filterwarnings('ignore')"
   ]
  },
  {
   "cell_type": "markdown",
   "metadata": {},
   "source": [
    "# Data reading"
   ]
  },
  {
   "cell_type": "code",
   "execution_count": 3,
   "metadata": {},
   "outputs": [],
   "source": [
    "data = pd.read_csv('aapl_dataset.csv', index_col = 'Date')"
   ]
  },
  {
   "cell_type": "code",
   "execution_count": 4,
   "metadata": {},
   "outputs": [],
   "source": [
    "data = data.dropna()"
   ]
  },
  {
   "cell_type": "code",
   "execution_count": 5,
   "metadata": {},
   "outputs": [
    {
     "data": {
      "text/html": [
       "<div>\n",
       "<style scoped>\n",
       "    .dataframe tbody tr th:only-of-type {\n",
       "        vertical-align: middle;\n",
       "    }\n",
       "\n",
       "    .dataframe tbody tr th {\n",
       "        vertical-align: top;\n",
       "    }\n",
       "\n",
       "    .dataframe thead th {\n",
       "        text-align: right;\n",
       "    }\n",
       "</style>\n",
       "<table border=\"1\" class=\"dataframe\">\n",
       "  <thead>\n",
       "    <tr style=\"text-align: right;\">\n",
       "      <th></th>\n",
       "      <th>high</th>\n",
       "      <th>low</th>\n",
       "      <th>open</th>\n",
       "      <th>close</th>\n",
       "      <th>volume</th>\n",
       "      <th>adj close</th>\n",
       "      <th>feat_RSI_close</th>\n",
       "      <th>feat_OBV_volume</th>\n",
       "      <th>feat_ATR_close</th>\n",
       "      <th>feat_HT_DCPERIOD_close</th>\n",
       "      <th>feat_HT_DCPHASE_close</th>\n",
       "      <th>feat_FUNDAMENTAL1_CHG</th>\n",
       "      <th>feat_FUNDAMENTAL2_CHG</th>\n",
       "      <th>feat_K10_FILING</th>\n",
       "      <th>feat_SENTIMENT_UP</th>\n",
       "      <th>feat_DIVIDEND</th>\n",
       "    </tr>\n",
       "    <tr>\n",
       "      <th>Date</th>\n",
       "      <th></th>\n",
       "      <th></th>\n",
       "      <th></th>\n",
       "      <th></th>\n",
       "      <th></th>\n",
       "      <th></th>\n",
       "      <th></th>\n",
       "      <th></th>\n",
       "      <th></th>\n",
       "      <th></th>\n",
       "      <th></th>\n",
       "      <th></th>\n",
       "      <th></th>\n",
       "      <th></th>\n",
       "      <th></th>\n",
       "      <th></th>\n",
       "    </tr>\n",
       "  </thead>\n",
       "  <tbody>\n",
       "    <tr>\n",
       "      <th>2019-12-24</th>\n",
       "      <td>284.890015</td>\n",
       "      <td>282.920013</td>\n",
       "      <td>284.690002</td>\n",
       "      <td>284.269989</td>\n",
       "      <td>12119700.0</td>\n",
       "      <td>283.596924</td>\n",
       "      <td>74.436585</td>\n",
       "      <td>2.224292e+10</td>\n",
       "      <td>3.913542</td>\n",
       "      <td>28.454955</td>\n",
       "      <td>150.076370</td>\n",
       "      <td>-0.337975</td>\n",
       "      <td>0.541358</td>\n",
       "      <td>3</td>\n",
       "      <td>0</td>\n",
       "      <td>-0.982111</td>\n",
       "    </tr>\n",
       "    <tr>\n",
       "      <th>2019-12-26</th>\n",
       "      <td>289.980011</td>\n",
       "      <td>284.700012</td>\n",
       "      <td>284.820007</td>\n",
       "      <td>289.910004</td>\n",
       "      <td>23280300.0</td>\n",
       "      <td>289.223602</td>\n",
       "      <td>78.678994</td>\n",
       "      <td>2.226620e+10</td>\n",
       "      <td>4.041862</td>\n",
       "      <td>28.079039</td>\n",
       "      <td>153.345130</td>\n",
       "      <td>-0.408145</td>\n",
       "      <td>0.929980</td>\n",
       "      <td>0</td>\n",
       "      <td>1</td>\n",
       "      <td>-2.587859</td>\n",
       "    </tr>\n",
       "    <tr>\n",
       "      <th>2019-12-27</th>\n",
       "      <td>293.970001</td>\n",
       "      <td>288.119995</td>\n",
       "      <td>291.119995</td>\n",
       "      <td>289.799988</td>\n",
       "      <td>36566500.0</td>\n",
       "      <td>289.113831</td>\n",
       "      <td>78.405656</td>\n",
       "      <td>2.222964e+10</td>\n",
       "      <td>4.171015</td>\n",
       "      <td>27.740405</td>\n",
       "      <td>156.893808</td>\n",
       "      <td>0.162783</td>\n",
       "      <td>0.732749</td>\n",
       "      <td>3</td>\n",
       "      <td>1</td>\n",
       "      <td>0.814541</td>\n",
       "    </tr>\n",
       "    <tr>\n",
       "      <th>2019-12-30</th>\n",
       "      <td>292.690002</td>\n",
       "      <td>285.220001</td>\n",
       "      <td>289.459991</td>\n",
       "      <td>291.519989</td>\n",
       "      <td>36028600.0</td>\n",
       "      <td>290.829773</td>\n",
       "      <td>79.598963</td>\n",
       "      <td>2.226566e+10</td>\n",
       "      <td>4.406657</td>\n",
       "      <td>27.553361</td>\n",
       "      <td>160.727817</td>\n",
       "      <td>-0.933116</td>\n",
       "      <td>0.980977</td>\n",
       "      <td>0</td>\n",
       "      <td>0</td>\n",
       "      <td>-1.696447</td>\n",
       "    </tr>\n",
       "    <tr>\n",
       "      <th>2019-12-31</th>\n",
       "      <td>293.679993</td>\n",
       "      <td>289.519989</td>\n",
       "      <td>289.929993</td>\n",
       "      <td>293.649994</td>\n",
       "      <td>25201400.0</td>\n",
       "      <td>292.954712</td>\n",
       "      <td>80.999258</td>\n",
       "      <td>2.229087e+10</td>\n",
       "      <td>4.389039</td>\n",
       "      <td>27.941882</td>\n",
       "      <td>164.208211</td>\n",
       "      <td>0.383039</td>\n",
       "      <td>0.336035</td>\n",
       "      <td>1</td>\n",
       "      <td>0</td>\n",
       "      <td>0.176790</td>\n",
       "    </tr>\n",
       "  </tbody>\n",
       "</table>\n",
       "</div>"
      ],
      "text/plain": [
       "                  high         low        open       close      volume  \\\n",
       "Date                                                                     \n",
       "2019-12-24  284.890015  282.920013  284.690002  284.269989  12119700.0   \n",
       "2019-12-26  289.980011  284.700012  284.820007  289.910004  23280300.0   \n",
       "2019-12-27  293.970001  288.119995  291.119995  289.799988  36566500.0   \n",
       "2019-12-30  292.690002  285.220001  289.459991  291.519989  36028600.0   \n",
       "2019-12-31  293.679993  289.519989  289.929993  293.649994  25201400.0   \n",
       "\n",
       "             adj close  feat_RSI_close  feat_OBV_volume  feat_ATR_close  \\\n",
       "Date                                                                      \n",
       "2019-12-24  283.596924       74.436585     2.224292e+10        3.913542   \n",
       "2019-12-26  289.223602       78.678994     2.226620e+10        4.041862   \n",
       "2019-12-27  289.113831       78.405656     2.222964e+10        4.171015   \n",
       "2019-12-30  290.829773       79.598963     2.226566e+10        4.406657   \n",
       "2019-12-31  292.954712       80.999258     2.229087e+10        4.389039   \n",
       "\n",
       "            feat_HT_DCPERIOD_close  feat_HT_DCPHASE_close  \\\n",
       "Date                                                        \n",
       "2019-12-24               28.454955             150.076370   \n",
       "2019-12-26               28.079039             153.345130   \n",
       "2019-12-27               27.740405             156.893808   \n",
       "2019-12-30               27.553361             160.727817   \n",
       "2019-12-31               27.941882             164.208211   \n",
       "\n",
       "            feat_FUNDAMENTAL1_CHG  feat_FUNDAMENTAL2_CHG  feat_K10_FILING  \\\n",
       "Date                                                                        \n",
       "2019-12-24              -0.337975               0.541358                3   \n",
       "2019-12-26              -0.408145               0.929980                0   \n",
       "2019-12-27               0.162783               0.732749                3   \n",
       "2019-12-30              -0.933116               0.980977                0   \n",
       "2019-12-31               0.383039               0.336035                1   \n",
       "\n",
       "            feat_SENTIMENT_UP  feat_DIVIDEND  \n",
       "Date                                          \n",
       "2019-12-24                  0      -0.982111  \n",
       "2019-12-26                  1      -2.587859  \n",
       "2019-12-27                  1       0.814541  \n",
       "2019-12-30                  0      -1.696447  \n",
       "2019-12-31                  0       0.176790  "
      ]
     },
     "execution_count": 5,
     "metadata": {},
     "output_type": "execute_result"
    }
   ],
   "source": [
    "data.tail()"
   ]
  },
  {
   "cell_type": "markdown",
   "metadata": {},
   "source": [
    "# Checking differentiation"
   ]
  },
  {
   "cell_type": "code",
   "execution_count": 6,
   "metadata": {},
   "outputs": [],
   "source": [
    "test_ts = data.close.dropna().values"
   ]
  },
  {
   "cell_type": "code",
   "execution_count": 7,
   "metadata": {},
   "outputs": [
    {
     "data": {
      "image/png": "[encoded data removed]",
      "text/plain": [
       "<Figure size 432x288 with 1 Axes>"
      ]
     },
     "metadata": {
      "needs_background": "light"
     },
     "output_type": "display_data"
    }
   ],
   "source": [
    "plt.figure()\n",
    "plt.plot(test_ts)\n",
    "plt.show()"
   ]
  },
  {
   "cell_type": "code",
   "execution_count": 8,
   "metadata": {},
   "outputs": [],
   "source": [
    "from statsmodels.tsa.stattools import adfuller\n",
    "from statsmodels.tsa.stattools import coint"
   ]
  },
  {
   "cell_type": "code",
   "execution_count": 9,
   "metadata": {},
   "outputs": [],
   "source": [
    "adf = lambda s: adfuller(s, autolag='AIC')\n",
    "p_val = lambda s: adfuller(s, autolag='AIC')[1]"
   ]
  },
  {
   "cell_type": "code",
   "execution_count": 10,
   "metadata": {
    "scrolled": true
   },
   "outputs": [
    {
     "data": {
      "text/plain": [
       "(2.4738002715406058,\n",
       " 0.9990409119702275,\n",
       " 29,\n",
       " 4938,\n",
       " {'1%': -3.4316749701517963,\n",
       "  '5%': -2.862125491914587,\n",
       "  '10%': -2.5670816583341},\n",
       " 17198.616010838927)"
      ]
     },
     "execution_count": 10,
     "metadata": {},
     "output_type": "execute_result"
    }
   ],
   "source": [
    "adf(test_ts)"
   ]
  },
  {
   "cell_type": "code",
   "execution_count": 11,
   "metadata": {},
   "outputs": [
    {
     "data": {
      "text/plain": [
       "(-10.253755800048758,\n",
       " 4.416004081500417e-18,\n",
       " 32,\n",
       " 4934,\n",
       " {'1%': -3.431676044866379,\n",
       "  '5%': -2.8621259667150416,\n",
       "  '10%': -2.567081911089371},\n",
       " 17194.60784386485)"
      ]
     },
     "execution_count": 11,
     "metadata": {},
     "output_type": "execute_result"
    }
   ],
   "source": [
    "adf(np.diff(test_ts))"
   ]
  },
  {
   "cell_type": "code",
   "execution_count": 12,
   "metadata": {},
   "outputs": [
    {
     "data": {
      "text/plain": [
       "(3.5839206292479138,\n",
       " 1.0,\n",
       " 30,\n",
       " 4937,\n",
       " {'1%': -3.4316752386670926,\n",
       "  '5%': -2.86212561054255,\n",
       "  '10%': -2.5670817214845068},\n",
       " 17187.706092958586)"
      ]
     },
     "execution_count": 12,
     "metadata": {},
     "output_type": "execute_result"
    }
   ],
   "source": [
    "adf(np.cumsum(test_ts))"
   ]
  },
  {
   "cell_type": "code",
   "execution_count": 13,
   "metadata": {},
   "outputs": [],
   "source": [
    "data = pd.read_csv('aapl_dataset.csv', index_col = 'Date')"
   ]
  },
  {
   "cell_type": "code",
   "execution_count": 14,
   "metadata": {},
   "outputs": [],
   "source": [
    "work_ts = data.close.values"
   ]
  },
  {
   "cell_type": "code",
   "execution_count": 15,
   "metadata": {},
   "outputs": [
    {
     "data": {
      "image/png": "[encoded data removed]",
      "text/plain": [
       "<Figure size 432x288 with 1 Axes>"
      ]
     },
     "metadata": {
      "needs_background": "light"
     },
     "output_type": "display_data"
    }
   ],
   "source": [
    "plt.figure()\n",
    "plt.plot(work_ts)\n",
    "plt.plot(np.diff(work_ts))\n",
    "plt.show()"
   ]
  },
  {
   "cell_type": "code",
   "execution_count": 16,
   "metadata": {},
   "outputs": [
    {
     "data": {
      "text/plain": [
       "(2.5089134102656874,\n",
       " 0.9990526684630562,\n",
       " 29,\n",
       " 5001,\n",
       " {'1%': -3.431658270286891,\n",
       "  '5%': -2.8621181140235223,\n",
       "  '10%': -2.5670777307913744},\n",
       " 17355.36805578865)"
      ]
     },
     "execution_count": 16,
     "metadata": {},
     "output_type": "execute_result"
    }
   ],
   "source": [
    "adf(work_ts)"
   ]
  },
  {
   "cell_type": "code",
   "execution_count": 17,
   "metadata": {},
   "outputs": [
    {
     "data": {
      "text/plain": [
       "(-10.313972648012083,\n",
       " 3.132186267089252e-18,\n",
       " 32,\n",
       " 4997,\n",
       " {'1%': -3.431659318070175,\n",
       "  '5%': -2.862118576928539,\n",
       "  '10%': -2.567077977213785},\n",
       " 17351.395427192037)"
      ]
     },
     "execution_count": 17,
     "metadata": {},
     "output_type": "execute_result"
    }
   ],
   "source": [
    "adf(np.diff(work_ts))"
   ]
  },
  {
   "cell_type": "code",
   "execution_count": 18,
   "metadata": {},
   "outputs": [
    {
     "data": {
      "text/plain": [
       "array([[1.        , 0.06804097],\n",
       "       [0.06804097, 1.        ]])"
      ]
     },
     "execution_count": 18,
     "metadata": {},
     "output_type": "execute_result"
    }
   ],
   "source": [
    "np.corrcoef(np.diff(work_ts), work_ts[1:])"
   ]
  },
  {
   "cell_type": "code",
   "execution_count": 20,
   "metadata": {},
   "outputs": [
    {
     "data": {
      "text/plain": [
       "array([[1.00000000e+00, 5.36657182e-04],\n",
       "       [5.36657182e-04, 1.00000000e+00]])"
      ]
     },
     "execution_count": 20,
     "metadata": {},
     "output_type": "execute_result"
    }
   ],
   "source": [
    "np.corrcoef(np.diff(np.diff(work_ts)), work_ts[2:])"
   ]
  },
  {
   "cell_type": "markdown",
   "metadata": {},
   "source": [
    "# Fractional Differentiation "
   ]
  },
  {
   "cell_type": "code",
   "execution_count": 21,
   "metadata": {},
   "outputs": [],
   "source": [
    "from mlfinlab.features.fracdiff import frac_diff_ffd"
   ]
  },
  {
   "cell_type": "code",
   "execution_count": 22,
   "metadata": {},
   "outputs": [
    {
     "data": {
      "text/plain": [
       "(2.5089134102656874,\n",
       " 0.9990526684630562,\n",
       " 29,\n",
       " 5001,\n",
       " {'1%': -3.431658270286891,\n",
       "  '5%': -2.8621181140235223,\n",
       "  '10%': -2.5670777307913744},\n",
       " 17355.36805578865)"
      ]
     },
     "execution_count": 22,
     "metadata": {},
     "output_type": "execute_result"
    }
   ],
   "source": [
    "adf(pd.DataFrame(data['close']))"
   ]
  },
  {
   "cell_type": "code",
   "execution_count": 23,
   "metadata": {},
   "outputs": [
    {
     "data": {
      "text/plain": [
       "(-10.313972648012083,\n",
       " 3.132186267089252e-18,\n",
       " 32,\n",
       " 4997,\n",
       " {'1%': -3.431659318070175,\n",
       "  '5%': -2.862118576928539,\n",
       "  '10%': -2.567077977213785},\n",
       " 17351.395427192037)"
      ]
     },
     "execution_count": 23,
     "metadata": {},
     "output_type": "execute_result"
    }
   ],
   "source": [
    "adf(pd.DataFrame(data['close']).diff().dropna())"
   ]
  },
  {
   "cell_type": "code",
   "execution_count": 24,
   "metadata": {},
   "outputs": [],
   "source": [
    "rangee = np.arange(0.1, 1.1, 0.1)\n",
    "adfs, corrs = [], []\n",
    "for d in rangee:\n",
    "    ts = frac_diff_ffd(pd.DataFrame(data['close']), d, thresh=1e-4)\n",
    "    adf_i = adf(ts.dropna())[0]\n",
    "    len_diff = len(data['close']) - len(ts.dropna())\n",
    "    corr_i = np.corrcoef(ts.dropna().values.flatten(), data['close'].values.flatten()[len_diff:])[0][1]\n",
    "    \n",
    "    adfs.append(adf_i)\n",
    "    corrs.append(corr_i)"
   ]
  },
  {
   "cell_type": "code",
   "execution_count": 25,
   "metadata": {},
   "outputs": [
    {
     "name": "stdout",
     "output_type": "stream",
     "text": [
      "d = 0.1 ADF = 1.61 Corr = 0.998 ADF 95% cutoff = -2.86\n",
      "d = 0.2 ADF = 1.006 Corr = 0.988 ADF 95% cutoff = -2.86\n",
      "d = 0.3 ADF = 0.379 Corr = 0.967 ADF 95% cutoff = -2.86\n",
      "d = 0.4 ADF = -0.357 Corr = 0.927 ADF 95% cutoff = -2.86\n",
      "d = 0.5 ADF = -1.257 Corr = 0.862 ADF 95% cutoff = -2.86\n",
      "d = 0.6 ADF = -2.243 Corr = 0.757 ADF 95% cutoff = -2.86\n",
      "d = 0.7 ADF = -3.413 Corr = 0.607 ADF 95% cutoff = -2.86\n",
      "d = 0.8 ADF = -4.752 Corr = 0.437 ADF 95% cutoff = -2.86\n",
      "d = 0.9 ADF = -6.526 Corr = 0.27 ADF 95% cutoff = -2.86\n",
      "d = 1.0 ADF = -10.314 Corr = 0.068 ADF 95% cutoff = -2.86\n"
     ]
    }
   ],
   "source": [
    "for i in range(len(adfs)):\n",
    "    print('d =', round(rangee[i], 3), \n",
    "          'ADF =', round(adfs[i], 3), \n",
    "          'Corr =', round(corrs[i], 3), \n",
    "          'ADF 95% cutoff =', -2.86)"
   ]
  },
  {
   "cell_type": "code",
   "execution_count": 26,
   "metadata": {},
   "outputs": [],
   "source": [
    "frac_diff_series = frac_diff_ffd(pd.DataFrame(data['close']), 0.7, thresh=1e-4)"
   ]
  },
  {
   "cell_type": "code",
   "execution_count": 29,
   "metadata": {},
   "outputs": [
    {
     "data": {
      "text/plain": [
       "<matplotlib.axes._subplots.AxesSubplot at 0x11c0fb320>"
      ]
     },
     "execution_count": 29,
     "metadata": {},
     "output_type": "execute_result"
    },
    {
     "data": {
      "image/png": "[encoded data removed]",
      "text/plain": [
       "<Figure size 432x288 with 1 Axes>"
      ]
     },
     "metadata": {
      "needs_background": "light"
     },
     "output_type": "display_data"
    }
   ],
   "source": [
    "frac_diff_series.plot()\n",
    "data['close'].diff().plot()"
   ]
  },
  {
   "cell_type": "markdown",
   "metadata": {},
   "source": [
    "# Feature Importance"
   ]
  },
  {
   "cell_type": "code",
   "execution_count": 30,
   "metadata": {},
   "outputs": [],
   "source": [
    "import shap\n",
    "from sklearn.ensemble import RandomForestClassifier"
   ]
  },
  {
   "cell_type": "code",
   "execution_count": 31,
   "metadata": {},
   "outputs": [],
   "source": [
    "WINDOW = 14\n",
    "HORIZON = 7"
   ]
  },
  {
   "cell_type": "code",
   "execution_count": 32,
   "metadata": {},
   "outputs": [],
   "source": [
    "data['feat_mean_frac_close'] = frac_diff_series.rolling(WINDOW).mean()\n",
    "data['feat_std_frac_close'] = frac_diff_series.rolling(WINDOW).std()\n",
    "data['feat_skew_frac_close'] = frac_diff_series.rolling(WINDOW).skew()\n",
    "data['feat_kurt_frac_close'] = frac_diff_series.rolling(WINDOW).kurt()\n",
    "data['feat_autocorr_frac_close'] = frac_diff_series.rolling(WINDOW).apply(lambda x: x.autocorr(), raw=False)"
   ]
  },
  {
   "cell_type": "code",
   "execution_count": 38,
   "metadata": {},
   "outputs": [
    {
     "data": {
      "text/plain": [
       "<matplotlib.axes._subplots.AxesSubplot at 0x121ce3da0>"
      ]
     },
     "execution_count": 38,
     "metadata": {},
     "output_type": "execute_result"
    },
    {
     "data": {
      "image/png": "[encoded data removed]",
      "text/plain": [
       "<Figure size 432x288 with 1 Axes>"
      ]
     },
     "metadata": {
      "needs_background": "light"
     },
     "output_type": "display_data"
    }
   ],
   "source": [
    "data['feat_mean_frac_close'].plot()\n",
    "data['feat_autocorr_frac_close'].plot()"
   ]
  },
  {
   "cell_type": "code",
   "execution_count": 39,
   "metadata": {},
   "outputs": [],
   "source": [
    "t = '2015-01-01'\n",
    "data_train = data[:t].dropna()\n",
    "data_test = data[t:].dropna()"
   ]
  },
  {
   "cell_type": "code",
   "execution_count": 40,
   "metadata": {},
   "outputs": [],
   "source": [
    "FEATURE_COLUMNS = [d for d in data.columns if 'feat_' in d]"
   ]
  },
  {
   "cell_type": "code",
   "execution_count": 41,
   "metadata": {},
   "outputs": [],
   "source": [
    "def createXY(inputs, outputs):   \n",
    "    X, Y, P = [], [], []\n",
    "    for i in range(WINDOW, len(inputs)-HORIZON, 1):\n",
    "\n",
    "        window = inputs[i-WINDOW:i].values\n",
    "        future = (outputs[i+HORIZON] - outputs[i]) / outputs[i]\n",
    "\n",
    "        X.append(window)\n",
    "        Y.append(np.sign(future))\n",
    "        P.append(outputs[i])\n",
    "\n",
    "    X, Y, P = np.array(X), np.array(Y), np.array(P)\n",
    "    return X, Y, P"
   ]
  },
  {
   "cell_type": "code",
   "execution_count": 42,
   "metadata": {
    "scrolled": true
   },
   "outputs": [],
   "source": [
    "X_train, Y_train, _ = createXY(data_train[FEATURE_COLUMNS], data_train['close'])\n",
    "X_test, Y_test, _ = createXY(data_test[FEATURE_COLUMNS], data_test['close'])"
   ]
  },
  {
   "cell_type": "code",
   "execution_count": 43,
   "metadata": {},
   "outputs": [],
   "source": [
    "X_train_df = pd.DataFrame(X_train.mean(axis=1), columns = FEATURE_COLUMNS)\n",
    "X_test_df = pd.DataFrame(X_test.mean(axis=1), columns = FEATURE_COLUMNS)"
   ]
  },
  {
   "cell_type": "code",
   "execution_count": 44,
   "metadata": {
    "scrolled": true
   },
   "outputs": [],
   "source": [
    "clf = RandomForestClassifier()\n",
    "clf.fit(X_train_df, Y_train)\n",
    "\n",
    "explainer = shap.TreeExplainer(clf)\n",
    "shap_values = explainer.shap_values(X_train_df)\n",
    "\n",
    "fi0 = np.abs(shap_values[0]).mean(axis=0)\n",
    "fi1 = np.abs(shap_values[1]).mean(axis=0)\n",
    "fi = fi0 + fi1\n",
    "imp = pd.DataFrame({\n",
    "    'feature': X_train_df.columns.tolist(),\n",
    "    'mean': fi\n",
    "})\n",
    "imp = imp.set_index('feature')"
   ]
  },
  {
   "cell_type": "code",
   "execution_count": 45,
   "metadata": {
    "scrolled": true
   },
   "outputs": [
    {
     "data": {
      "text/plain": [
       "<matplotlib.axes._subplots.AxesSubplot at 0x1222a3320>"
      ]
     },
     "execution_count": 45,
     "metadata": {},
     "output_type": "execute_result"
    },
    {
     "data": {
      "image/png": "[encoded data removed]",
      "text/plain": [
       "<Figure size 432x288 with 1 Axes>"
      ]
     },
     "metadata": {
      "needs_background": "light"
     },
     "output_type": "display_data"
    }
   ],
   "source": [
    "imp.sort_values('mean').plot.barh()"
   ]
  },
  {
   "cell_type": "code",
   "execution_count": null,
   "metadata": {},
   "outputs": [],
   "source": []
  },
  {
   "cell_type": "code",
   "execution_count": null,
   "metadata": {},
   "outputs": [],
   "source": []
  },
  {
   "cell_type": "code",
   "execution_count": null,
   "metadata": {},
   "outputs": [],
   "source": []
  },
  {
   "cell_type": "code",
   "execution_count": null,
   "metadata": {},
   "outputs": [],
   "source": []
  }
 ],
 "metadata": {
  "kernelspec": {
   "display_name": "Python 3",
   "language": "python",
   "name": "python3"
  },
  "language_info": {
   "codemirror_mode": {
    "name": "ipython",
    "version": 3
   },
   "file_extension": ".py",
   "mimetype": "text/x-python",
   "name": "python",
   "nbconvert_exporter": "python",
   "pygments_lexer": "ipython3",
   "version": "3.7.3"
  }
 },
 "nbformat": 4,
 "nbformat_minor": 2
}
